{
 "cells": [
  {
   "cell_type": "markdown",
   "metadata": {},
   "source": [
    "**Q1_Photoelectric Effect:**\n",
    "    \n",
    "When light shines on a metal, electrons can be ejected from the surface of the metal in a phenomenon known as the photoelectric\n",
    "effect. This process is also often referred to as photoemission, and the electrons that are ejected from the metal are called \n",
    "photoelectrons. In terms of their behavior and their properties, photoelectrons are no different from other electrons. \n",
    "The prefix, photo-, simply tells us that the electrons have been ejected from a metal surface by incident light.\n",
    "\n",
    "**X-Ray Production:**\n",
    "\n",
    "When a target is bombarded by protons or heavier ions, electrons are ejected from the atomic shells of the target atoms. If an impact removes an electron from an inner shell, the filling of the vacancy leads to the emission of x-rays characteristic of the element bombarded. The production of characteristic x-rays by electrons is a familiar phenomenon and gives rise to spiked peaks superimposed on the continuous x-ray spectrum[1]. \n",
    "\n",
    "So, these phenomenons are quite similiar since both have same type of electron ejection involved.\n"
   ]
  },
  {
   "cell_type": "markdown",
   "metadata": {},
   "source": [
    "**Q2_Bremsstrahlung radiation:**\n",
    "\n",
    "Bremsstrahlung radiation is the radiation given off by a charged particle (most often an electron) due to its acceleration caused by an electric field of another charged particle (most often a proton or an atomic nucleus). The word “Bremsstrahlung” is a German word meaning “braking radiation,” which refers to the way in which electrons are “braked” when they hit a metal target. The incident electrons are free, meaning they’re not bound to an atom or ion, both before and after the braking. Consequently, this kind of radiation’s spectrum is continuous (unlike atomic spectra, which contain sharp spectral lines) and sometimes referred to as “free-free” radiation. If the energy of the incident electrons is high enough, they emit X-rays after they have been braked.\n",
    "\n",
    "One of the most interesting examples of Bremsstrahlung radiation in the universe is that coming from the hot intracluster gas of galaxy clusters. In this case, the electrons don’t bounce off a metal target but are deflected by the electric field of protons. The gas has X-ray luminosities of $ 10^{36} $ to $ 10^{38} $ W (roughly 10 billion to 1 trillion times the luminosity of the sun!) and temperatures on the order of 10 million K. X-ray telescopes can detect this radiation as diffuse light, as seen in the image of the Coma cluster (below left)[2]. \n",
    "\n",
    "Proton bombardment and this phenomenon are kind of same but both use different elements for bombardment.proton bombardment use proton and this radation is using electron for same.\n"
   ]
  },
  {
   "cell_type": "markdown",
   "metadata": {},
   "source": [
    "**Q3_X-Rays:**\n",
    "\n",
    "X-rays are a form of electromagnetic radiation, as are radio waves, infrared radiation, visible light, ultraviolet radiation and microwaves. One of the most common and beneficial uses of X-rays is for medical imaging. X-rays are also used in treating cancer and in exploring the cosmos. \n",
    "\n",
    "Electromagnetic radiation is transmitted in waves or particles at different wavelengths and frequencies. This broad range of wavelengths is known as the electromagnetic spectrum. The EM spectrum is generally divided into seven regions in order of decreasing wavelength and increasing energy and frequency. The common designations are: radio waves, microwaves, infrared (IR), visible light, ultraviolet (UV), X-rays and gamma-rays. \n",
    "\n",
    "The electromagnetic spectrum is generally divided into seven regions, in order of decreasing wavelength and increasing energy and frequency: radio waves, microwaves, infrared, visible light, ultraviolet, X-rays and gamma rays. \n",
    "The electromagnetic spectrum is generally divided into seven regions, in order of decreasing wavelength and increasing energy and frequency: radio waves, microwaves, infrared, visible light, ultraviolet, X-rays and gamma rays.\n",
    "\n",
    "X-rays are roughly classified into two types: soft X-rays and hard X-rays. Soft X-rays fall in the range of the EM spectrum between (UV) light and gamma-rays. Soft X-rays have comparatively high frequencies — about 3 × 1016 cycles per second, or hertz, to about 1018 Hz — and relatively short wavelengths — about 10 nanometers (nm), or 4 × 10−7 inches, to about 100 picometers (pm), or 4 × 10−8 inches. (A nanometer is one-billionth of a meter; a picometer is one-trillionth of a meter.) Hard X-rays have frequencies of about 1018 Hz to higher than 1020 Hz and wavelengths of about 100 pm (4 × 10−9 inches) to about 1 pm (4 × 10−11 inches). Hard X-rays occupy the same region of the EM spectrum as gamma-rays. The only difference between them is their source: X-rays are produced by accelerating electrons, while gamma-rays are produced by atomic nuclei[3]. \n",
    "\n",
    "**Gamma Rays:**\n",
    "\n",
    "Gamma rays have the smallest wavelengths and the most energy of any wave in the electromagnetic spectrum. They are produced by the hottest and most energetic objects in the universe, such as neutron stars and pulsars, supernova explosions, and regions around black holes. On Earth, gamma waves are generated by nuclear explosions, lightning, and the less dramatic activity of radioactive decay.\n",
    "\n",
    "Unlike optical light and x-rays, gamma rays cannot be captured and reflected by mirrors. Gamma-ray wavelengths are so short that they can pass through the space within the atoms of a detector. Gamma-ray detectors typically contain densely packed crystal blocks. As gamma rays pass through, they collide with electrons in the crystal. This process is called Compton scattering, wherein a gamma ray strikes an electron and loses energy, similar to what happens when a cue ball strikes an eight ball. These collisions create charged particles that can be detected by the sensor[4]."
   ]
  },
  {
   "cell_type": "markdown",
   "metadata": {},
   "source": [
    "**Q4:**\n",
    "\n",
    "Hard x-rays are the highest energy x-rays, while the lower energy x-rays are referred to as soft x-rays. The distinction between hard and soft x-rays is not well defined. Hard x-rays are typically those with energies greater than around 10 keV. More relevant to the distinction are the instruments required to observe them and the physical conditions under which the x-rays are produced.\n",
    "\n",
    "It is possible to produce a mirror to image soft x-rays if the x-rays hit the mirror at small angles to the reflecting surface. This is known as a grazing incidence telescope. This does not work with hard x-rays, however. Obtaining images of hard x-ray sources has required a less direct approach called Fourier-synthesis imaging. This approach uses pairs of filters, or collimators, to obtain information about the source structure on different size scales. The signals obtained from each of the collimators are combined on a computer to construct the image. The image quality improves as the number of collimators, and the number of size scales sampled, increases.\n",
    "\n",
    "Common applications of X-rays include medical imaging and airport security scanning. Denser materials require higher energy X-rays; for this reason hard X-rays are used for examining welds in metal. Softer X-rays are used in mammography and intermediate energy X-rays are used for whole body imaging.\n",
    "\n",
    "For Example-The average radiation received by people in Ireland is about 4000 μSv(microsievert) per annum. About 86% comes from natural sources and about 14% from artificial sources. By far the largest source of natural radiation that people in Ireland are exposed to is radon in the home; the average dose per person from radon is about 2000 μSv, but some people receive many times this dose.\n",
    "\n",
    "Most of the artificial radiation we receive is from medical X-rays. Again,the actual dose received varies greatly from person to person. Since all ionising radiation is hazardous, the use of X-rays should be limited to necessary procedures[5]."
   ]
  },
  {
   "cell_type": "markdown",
   "metadata": {},
   "source": [
    "**References:**\n",
    "\n",
    "[1] *\"X-ray production by heavy charged particles.\"* E.merzbacher,H.W.Lewis\n",
    "\n",
    "[2] astronomy.swin.edu.au/cosmos/B/bremstrahlung+radiation\n",
    "\n",
    "[3] https://www.livescience.com/32344-what-are-x-rays.html\n",
    "\n",
    "[4]https://science.nasa.gov/ems/12-gammarays\n",
    "\n",
    "[5]*\"X-rays: uses and dangers\"*- Radiological Protection Institute of Ireland."
   ]
  }
 ],
 "metadata": {
  "kernelspec": {
   "display_name": "Python 2",
   "language": "python",
   "name": "python2"
  },
  "language_info": {
   "codemirror_mode": {
    "name": "ipython",
    "version": 2
   },
   "file_extension": ".py",
   "mimetype": "text/x-python",
   "name": "python",
   "nbconvert_exporter": "python",
   "pygments_lexer": "ipython2",
   "version": "2.7.13"
  }
 },
 "nbformat": 4,
 "nbformat_minor": 2
}
